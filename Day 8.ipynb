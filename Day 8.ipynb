{
  "nbformat": 4,
  "nbformat_minor": 0,
  "metadata": {
    "colab": {
      "name": "Day_8_Maths_for_Data_Science_and_Machine_Learning.ipynb",
      "provenance": [],
      "authorship_tag": "ABX9TyN+E4VHYiWg+I3yzFr+NBbV"
    },
    "kernelspec": {
      "name": "python3",
      "display_name": "Python 3"
    },
    "language_info": {
      "name": "python"
    }
  },
  "cells": [
    {
      "cell_type": "code",
      "execution_count": null,
      "metadata": {
        "id": "jRGBAJm8UmrQ"
      },
      "outputs": [],
      "source": [
        ""
      ]
    }
  ]
}