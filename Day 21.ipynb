{
  "nbformat": 4,
  "nbformat_minor": 0,
  "metadata": {
    "colab": {
      "name": "Day_22_All_the_Important_ML_algorithms.ipynb",
      "provenance": [],
      "toc_visible": true,
      "authorship_tag": "ABX9TyPMtlcupaPoXKdUrx2VlBA1"
    },
    "kernelspec": {
      "name": "python3",
      "display_name": "Python 3"
    },
    "language_info": {
      "name": "python"
    }
  },
  "cells": [
    {
      "cell_type": "markdown",
      "source": [
        "<div style=\"text-align:center\"><img alt=\"ML Tree\" src=\"https://github.com/thunderstroke325/60-Days-of-Data-Science-and-ML/blob/main/assets/ml_tree.png?raw=true\" /></div>"
      ],
      "metadata": {
        "id": "Oa8qGpchHFkQ"
      }
    },
    {
      "cell_type": "markdown",
      "source": [
        "## Regression\n",
        "Used to model the relationship between a dependent (target) and independent (predictor) variables with one or more independent variables which helps us to understand how the value of the dependent variable is changing corresponding to the independent variables.\n",
        "\n",
        "*   Linear Regression\n",
        "*   Decision Tree\n",
        "*   Support Vector Regression\n",
        "*   Lasso Regression\n",
        "*   Random Forest"
      ],
      "metadata": {
        "id": "GreaSEWqHFhd"
      }
    },
    {
      "cell_type": "markdown",
      "source": [
        "## Classification\n",
        "Classification algorithms are used for predictive modeling problem where input training data is used to predict the probability that future data will fall into one of the predetermined/labelled categories.\n",
        "\n",
        "*   Logistic Regression\n",
        "*   Naive Bayes\n",
        "*   K-Nearest Neighbors\n",
        "*   Decision Tree\n",
        "*   Support Vector Machines"
      ],
      "metadata": {
        "id": "sxvRIzDTHFfV"
      }
    },
    {
      "cell_type": "markdown",
      "source": [
        "## Clustering\n",
        "Clustering is a technique of dividing the population or data points, grouping them into different clusters on the basis of similarity and dissimilarity between them. It helps in determining the intrinsic group among the unlabeled data points.\n",
        "\n",
        "<div style=\"text-align:center\"><img alt=\"Clustering\" src=\"https://github.com/thunderstroke325/60-Days-of-Data-Science-and-ML/blob/main/assets/clustering.png?raw=true\" /></div>\n",
        "\n",
        "*   Affinity Propagation\n",
        "*   Agglomerative Clustering\n",
        "*   BIRCH\n",
        "*   DBSCAN\n",
        "*   K-Means\n",
        "*   Mini-Batch K-Means\n",
        "*   Mean Shift\n",
        "*   OPTICS\n",
        "*   Spectral Clustering"
      ],
      "metadata": {
        "id": "M9l4cXBfIZ-r"
      }
    }
  ]
}