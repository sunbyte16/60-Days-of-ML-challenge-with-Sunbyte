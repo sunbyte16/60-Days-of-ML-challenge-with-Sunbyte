{
  "nbformat": 4,
  "nbformat_minor": 0,
  "metadata": {
    "colab": {
      "name": "Day_2_Python_Basics_with_Code_Implementation_Part2.ipynb",
      "provenance": [],
      "toc_visible": true,
      "authorship_tag": "ABX9TyPiLqeG129mx2w6z7RNQPdU"
    },
    "kernelspec": {
      "name": "python3",
      "display_name": "Python 3"
    },
    "language_info": {
      "name": "python"
    }
  },
  "cells": [
    {
      "cell_type": "markdown",
      "source": [
        "## Python Lists\n",
        "\n",
        "\n",
        "*   One of the most versatile data type in Python, Lists are used to store multiple items (homogeneous or non-homogeneous) in a single variable.\n",
        "*   Place the items inside the square brackets []\n",
        "*   Items can be of any data type\n",
        "*   Lists are defined as objects with the data type 'list'\n",
        "*   Items are ordered, changeable, and allow duplicate values\n",
        "*   list() constructor can be used when creating a new list\n",
        "*   To access values in lists, use the square brackets for slicing along with the index to obtain item value available at a particular index\n",
        "*   Items inside list are indexed, the first item has index [0], the second item has index [1] etc.\n"
      ],
      "metadata": {
        "id": "3j4iwhhxDWJO"
      }
    },
    {
      "cell_type": "code",
      "source": [
        "# Create a List\n",
        "list_one = [\"sunday\",\"monday\",\"tuesday\",\"wednesday\",\"thursday\"]\n",
        "print(list_one)"
      ],
      "metadata": {
        "colab": {
          "base_uri": "https://localhost:8080/"
        },
        "id": "Ew5RyeN6EUDM",
        "outputId": "f6041c9d-abb3-455c-c5e5-85f4b6d5733a"
      },
      "execution_count": 1,
      "outputs": [
        {
          "output_type": "stream",
          "name": "stdout",
          "text": [
            "['sunday', 'monday', 'tuesday', 'wednesday', 'thursday']\n"
          ]
        }
      ]
    },
    {
      "cell_type": "code",
      "source": [
        "# List Length\n",
        "print(len(list_one))"
      ],
      "metadata": {
        "colab": {
          "base_uri": "https://localhost:8080/"
        },
        "id": "G3zAAqL8ET-8",
        "outputId": "41dace50-1948-41e7-d09d-e066ef18f632"
      },
      "execution_count": 2,
      "outputs": [
        {
          "output_type": "stream",
          "name": "stdout",
          "text": [
            "5\n"
          ]
        }
      ]
    },
    {
      "cell_type": "code",
      "source": [
        "# List with different data types\n",
        "list_two = ['abc',67,True,3.14,\"female\"]\n",
        "print(list_two)"
      ],
      "metadata": {
        "colab": {
          "base_uri": "https://localhost:8080/"
        },
        "id": "exfuV7R4ET8t",
        "outputId": "92c42598-b0d7-4a0d-f68e-d772dcb1b82a"
      },
      "execution_count": 3,
      "outputs": [
        {
          "output_type": "stream",
          "name": "stdout",
          "text": [
            "['abc', 67, True, 3.14, 'female']\n"
          ]
        }
      ]
    },
    {
      "cell_type": "code",
      "source": [
        "# type() with List\n",
        "print(type(list_two))"
      ],
      "metadata": {
        "colab": {
          "base_uri": "https://localhost:8080/"
        },
        "id": "pxJQnCXeEcsF",
        "outputId": "c1e39959-46d2-4fc6-ef0e-448edf53c25c"
      },
      "execution_count": 4,
      "outputs": [
        {
          "output_type": "stream",
          "name": "stdout",
          "text": [
            "<class 'list'>\n"
          ]
        }
      ]
    },
    {
      "cell_type": "code",
      "source": [
        "# list() constructor to make a List\n",
        "list_cons = list((\"hello\",\"World\",\"Beautiful\",\"Day\"))\n",
        "print(list_cons)"
      ],
      "metadata": {
        "colab": {
          "base_uri": "https://localhost:8080/"
        },
        "id": "DMZtnkLBEcpd",
        "outputId": "e7abfd06-b1e1-4f19-b154-66ff189dc491"
      },
      "execution_count": 5,
      "outputs": [
        {
          "output_type": "stream",
          "name": "stdout",
          "text": [
            "['hello', 'World', 'Beautiful', 'Day']\n"
          ]
        }
      ]
    },
    {
      "cell_type": "code",
      "source": [
        "# nested list\n",
        "list_nest= [\"hello\",[8,4,6],['World']]\n",
        "print(list_nest)"
      ],
      "metadata": {
        "colab": {
          "base_uri": "https://localhost:8080/"
        },
        "id": "NO8Mnj45EcnF",
        "outputId": "1ebfa766-41e2-4952-c448-2b256004754c"
      },
      "execution_count": 6,
      "outputs": [
        {
          "output_type": "stream",
          "name": "stdout",
          "text": [
            "['hello', [8, 4, 6], ['World']]\n"
          ]
        }
      ]
    },
    {
      "cell_type": "code",
      "source": [
        "# slice lists in Python : Use the slicing operator :(colon)\n",
        "list_one = [\"sunday\",\"monday\",\"tuesday\",\"wednesday\",\"thursday\"]\n",
        "print(list_one[1:4])"
      ],
      "metadata": {
        "colab": {
          "base_uri": "https://localhost:8080/"
        },
        "id": "pzgB8IwoEckn",
        "outputId": "a935ac83-e88c-431f-f509-9f7c3c2f4186"
      },
      "execution_count": 7,
      "outputs": [
        {
          "output_type": "stream",
          "name": "stdout",
          "text": [
            "['monday', 'tuesday', 'wednesday']\n"
          ]
        }
      ]
    },
    {
      "cell_type": "code",
      "source": [
        "# Add/Change List Elements : use the assignment operator = to change an item\n",
        "list_one = [\"sunday\",\"monday\",\"tuesday\",\"wednesday\",\"thursday\"]\n",
        "list_one[3] = 'friday'\n",
        "print(list_one)"
      ],
      "metadata": {
        "colab": {
          "base_uri": "https://localhost:8080/"
        },
        "id": "7PsHm9NJErsV",
        "outputId": "4bad9b2c-b8ef-4a3b-b1a8-51d4c2d5cc7e"
      },
      "execution_count": 8,
      "outputs": [
        {
          "output_type": "stream",
          "name": "stdout",
          "text": [
            "['sunday', 'monday', 'tuesday', 'friday', 'thursday']\n"
          ]
        }
      ]
    },
    {
      "cell_type": "code",
      "source": [
        "# Appending and Extending lists in Python : Use the append() or extend() method\n",
        "# append() method\n",
        "list_one = [\"sunday\",\"monday\",\"tuesday\",\"wednesday\",\"thursday\"]\n",
        "list_one.append('friday')\n",
        "print(list_one)\n",
        "\n",
        "# extend() method\n",
        "list_one.extend(['saturday'])\n",
        "print(list_one)"
      ],
      "metadata": {
        "colab": {
          "base_uri": "https://localhost:8080/"
        },
        "id": "Y6FLq9z3Erpv",
        "outputId": "4f735bdf-af04-4488-9dec-99a8ff60a34c"
      },
      "execution_count": 9,
      "outputs": [
        {
          "output_type": "stream",
          "name": "stdout",
          "text": [
            "['sunday', 'monday', 'tuesday', 'wednesday', 'thursday', 'friday']\n",
            "['sunday', 'monday', 'tuesday', 'wednesday', 'thursday', 'friday', 'saturday']\n"
          ]
        }
      ]
    },
    {
      "cell_type": "code",
      "source": [
        "# Concatenating and repeat lists : use + operator to concate two lists and use * operator to repeat lists\n",
        "list_one = [\"sunday\",\"monday\",\"tuesday\",\"wednesday\",\"thursday\"]\n",
        "print(list_one + [0, 1, 2, 3, 4])\n",
        "\n",
        "# repeat operation \n",
        "print(['a','b'] * 2)"
      ],
      "metadata": {
        "colab": {
          "base_uri": "https://localhost:8080/"
        },
        "id": "GM9wv_eRErnk",
        "outputId": "5832af98-f983-45a9-c4df-4d4cdc85021b"
      },
      "execution_count": 11,
      "outputs": [
        {
          "output_type": "stream",
          "name": "stdout",
          "text": [
            "['sunday', 'monday', 'tuesday', 'wednesday', 'thursday', 0, 1, 2, 3, 4]\n",
            "['a', 'b', 'a', 'b']\n"
          ]
        }
      ]
    },
    {
      "cell_type": "code",
      "source": [
        "# Delete/Remove List Elements : delete one or more items or entire list using the keyword del\n",
        "del list_one[2]\n",
        "print(list_one)\n",
        "\n",
        "# remove() method : remove the given item or pop() method to remove an item at the given index location\n",
        "list_one = [\"sunday\",\"monday\",\"tuesday\",\"wednesday\",\"thursday\"]\n",
        "list_one.remove(\"tuesday\")\n",
        "print(list_one)\n",
        "\n",
        "# pop() method\n",
        "list_one = [\"sunday\",\"monday\",\"tuesday\",\"wednesday\",\"thursday\"]\n",
        "list_one.pop(2)\n",
        "print(\"Pop result:\", list_one)"
      ],
      "metadata": {
        "colab": {
          "base_uri": "https://localhost:8080/"
        },
        "id": "9Gi8tG3RErk9",
        "outputId": "a53edd22-66d8-4f3c-89d0-ac92af7a8f87"
      },
      "execution_count": 12,
      "outputs": [
        {
          "output_type": "stream",
          "name": "stdout",
          "text": [
            "['sunday', 'monday', 'wednesday', 'thursday']\n",
            "['sunday', 'monday', 'wednesday', 'thursday']\n",
            "Pop result: ['sunday', 'monday', 'wednesday', 'thursday']\n"
          ]
        }
      ]
    },
    {
      "cell_type": "code",
      "source": [
        "# index() method : Returns the index of the first matched item\n",
        "list_one = [\"sunday\",\"monday\",\"tuesday\",\"wednesday\",\"thursday\"]\n",
        "print(list_one.index(\"tuesday\"))"
      ],
      "metadata": {
        "colab": {
          "base_uri": "https://localhost:8080/"
        },
        "id": "yqz80LQ8FUtH",
        "outputId": "a1aa96e0-4470-4104-f5db-f8c1bba32194"
      },
      "execution_count": 13,
      "outputs": [
        {
          "output_type": "stream",
          "name": "stdout",
          "text": [
            "2\n"
          ]
        }
      ]
    },
    {
      "cell_type": "code",
      "source": [
        "# sort() method: Sort items in a list in ascending order\n",
        "list_one = [\"sunday\",\"monday\",\"tuesday\",\"wednesday\",\"thursday\"]\n",
        "list_one.sort()\n",
        "print(list_one)"
      ],
      "metadata": {
        "colab": {
          "base_uri": "https://localhost:8080/"
        },
        "id": "rrZtvmydFUq9",
        "outputId": "8e6ac6c9-900f-499b-de2a-3d45b897cb2b"
      },
      "execution_count": 14,
      "outputs": [
        {
          "output_type": "stream",
          "name": "stdout",
          "text": [
            "['monday', 'sunday', 'thursday', 'tuesday', 'wednesday']\n"
          ]
        }
      ]
    },
    {
      "cell_type": "code",
      "source": [
        "# reverse() : Reverse the order of items in the list\n",
        "list_one = [\"sunday\",\"monday\",\"tuesday\",\"wednesday\",\"thursday\"]\n",
        "list_one.reverse()\n",
        "print(list_one)"
      ],
      "metadata": {
        "colab": {
          "base_uri": "https://localhost:8080/"
        },
        "id": "Z2ZIUkpsFUok",
        "outputId": "48ef58aa-a61b-4733-f55a-6cece19a7b29"
      },
      "execution_count": 15,
      "outputs": [
        {
          "output_type": "stream",
          "name": "stdout",
          "text": [
            "['thursday', 'wednesday', 'tuesday', 'monday', 'sunday']\n"
          ]
        }
      ]
    },
    {
      "cell_type": "code",
      "source": [
        "# copy() : Returns a shallow copy of the list\n",
        "list_one = [\"sunday\",\"monday\",\"tuesday\",\"wednesday\",\"thursday\"]\n",
        "list_two = list_one.copy()\n",
        "print(list_two)"
      ],
      "metadata": {
        "colab": {
          "base_uri": "https://localhost:8080/"
        },
        "id": "am7gsrGZFUmW",
        "outputId": "81955440-ea96-408b-a7a5-7e9a7657cfb0"
      },
      "execution_count": 17,
      "outputs": [
        {
          "output_type": "stream",
          "name": "stdout",
          "text": [
            "['sunday', 'monday', 'tuesday', 'wednesday', 'thursday']\n"
          ]
        }
      ]
    },
    {
      "cell_type": "code",
      "source": [
        "# Membership : check if an item exists in a list or not, using the keyword in\n",
        "list_one = [\"sunday\",\"monday\",\"tuesday\",\"wednesday\",\"thursday\"]\n",
        "print('tuesday' in list_one)"
      ],
      "metadata": {
        "colab": {
          "base_uri": "https://localhost:8080/"
        },
        "id": "viYNmkaBFUkE",
        "outputId": "0c7135a3-2418-44b7-8a35-fe265a11b612"
      },
      "execution_count": 18,
      "outputs": [
        {
          "output_type": "stream",
          "name": "stdout",
          "text": [
            "True\n"
          ]
        }
      ]
    },
    {
      "cell_type": "code",
      "source": [
        "# insert() method : insert item at a desired location\n",
        "list_one = [\"sunday\",\"monday\",\"tuesday\",\"wednesday\",\"thursday\"]\n",
        "list_one.insert(2,'friday')\n",
        "print(list_one)"
      ],
      "metadata": {
        "colab": {
          "base_uri": "https://localhost:8080/"
        },
        "id": "zLVd9DlvFUhl",
        "outputId": "3f4a4f58-65ae-4962-e618-0fa88c6d7ecc"
      },
      "execution_count": 19,
      "outputs": [
        {
          "output_type": "stream",
          "name": "stdout",
          "text": [
            "['sunday', 'monday', 'friday', 'tuesday', 'wednesday', 'thursday']\n"
          ]
        }
      ]
    },
    {
      "cell_type": "markdown",
      "source": [
        "### List Comprehensions\n",
        "\n",
        "\n",
        "*   In python, list comprehensions are used to create a new list based on the values of an existing list in the most elegant and shortest way.\n",
        "*   List comprehension consists of an expression followed by for statement inside square [] brackets.\n",
        "\n"
      ],
      "metadata": {
        "id": "RWPaEiPaDWG8"
      }
    },
    {
      "cell_type": "code",
      "source": [
        "sqr = [2**x for x in range(20)]\n",
        "print(sqr)"
      ],
      "metadata": {
        "colab": {
          "base_uri": "https://localhost:8080/"
        },
        "id": "S1h5r4zgGFOl",
        "outputId": "adf8571b-7d8d-4a78-dab7-ecb288ea93a4"
      },
      "execution_count": 20,
      "outputs": [
        {
          "output_type": "stream",
          "name": "stdout",
          "text": [
            "[1, 2, 4, 8, 16, 32, 64, 128, 256, 512, 1024, 2048, 4096, 8192, 16384, 32768, 65536, 131072, 262144, 524288]\n"
          ]
        }
      ]
    },
    {
      "cell_type": "markdown",
      "source": [
        "## Python Dictionaries\n",
        "\n",
        "\n",
        "*   In python, dictionary is an unordered collection of data values in which data values are stored in key:value pairs\n",
        "*   Created by placing sequence of elements wtihin curly {} braces, separated by ','\n",
        "*   Values can be of any datatype and can be duplicated, whereas keys are immutable and can't be repeated\n",
        "*   Can be created by the built-in function dict()\n",
        "*   Dictionaries are defined as objects with the data type 'dict'\n",
        "*   dict() constructor can be used when creating a new dict\n",
        "*   To access values in dict, use the keys\n",
        "*   Key:Value format makes dictionary one of the most optimized and efficient data type in Python\n",
        "\n"
      ],
      "metadata": {
        "id": "A9C4XqhvDWEk"
      }
    },
    {
      "cell_type": "code",
      "source": [
        "# Create a Dictionary\n",
        "# empty dictionary\n",
        "dict_emp = {}\n",
        "print(dict_emp)\n",
        "\n",
        "# dict with items\n",
        "dict_one = {0:'sunday', 1: 'monday', 2: 'tuesday', 3: 'wednesday', 4: 'thursday'}\n",
        "print(dict_one)"
      ],
      "metadata": {
        "colab": {
          "base_uri": "https://localhost:8080/"
        },
        "id": "9JWwFkoSG-YA",
        "outputId": "6a5cbd12-4137-4a55-96fb-64dc206f71e5"
      },
      "execution_count": 22,
      "outputs": [
        {
          "output_type": "stream",
          "name": "stdout",
          "text": [
            "{}\n",
            "{0: 'sunday', 1: 'monday', 2: 'tuesday', 3: 'wednesday', 4: 'thursday'}\n"
          ]
        }
      ]
    },
    {
      "cell_type": "code",
      "source": [
        "# Accessing Elements from Dictionary : Using keys or get() method\n",
        "dict_one = {0:'sunday', 1: 'monday', 2: 'tuesday', 3: 'wednesday', 4: 'thursday'}\n",
        "print(dict_one[1])\n",
        "\n",
        "# get() method\n",
        "print(dict_one.get(2))"
      ],
      "metadata": {
        "colab": {
          "base_uri": "https://localhost:8080/"
        },
        "id": "EyCWDN1fG-RV",
        "outputId": "7279ca0b-9d66-4db9-841a-45a9f43ffbb0"
      },
      "execution_count": 23,
      "outputs": [
        {
          "output_type": "stream",
          "name": "stdout",
          "text": [
            "monday\n",
            "tuesday\n"
          ]
        }
      ]
    },
    {
      "cell_type": "code",
      "source": [
        "# Length of Dictionary\n",
        "dict_one = {0:'sunday', 1: 'monday', 2: 'tuesday', 3: 'wednesday', 4: 'thursday'}\n",
        "print(len(dict_one))"
      ],
      "metadata": {
        "colab": {
          "base_uri": "https://localhost:8080/"
        },
        "id": "bTB3g62kG-On",
        "outputId": "14a56577-c08e-418e-99f7-a987c42f0373"
      },
      "execution_count": 24,
      "outputs": [
        {
          "output_type": "stream",
          "name": "stdout",
          "text": [
            "5\n"
          ]
        }
      ]
    },
    {
      "cell_type": "code",
      "source": [
        "# Changing and Adding Dictionary elements: add new items or change the value of existing items using an = operator\n",
        "dict_one = {0:'sunday', 1: 'monday', 2: 'tuesday', 3: 'wednesday', 4: 'thursday'}\n",
        "\n",
        "# change element\n",
        "dict_one[2] = 'friday'\n",
        "print(\"After changing the element\", dict_one)\n",
        "\n",
        "# add element\n",
        "dict_one[5] = 'saturday'\n",
        "print(\"After adding the element :\", dict_one)"
      ],
      "metadata": {
        "colab": {
          "base_uri": "https://localhost:8080/"
        },
        "id": "bgCi-8r6G-L2",
        "outputId": "a057c223-fefa-4824-929e-2a09ebfd6b75"
      },
      "execution_count": 25,
      "outputs": [
        {
          "output_type": "stream",
          "name": "stdout",
          "text": [
            "After changing the element {0: 'sunday', 1: 'monday', 2: 'friday', 3: 'wednesday', 4: 'thursday'}\n",
            "After adding the element : {0: 'sunday', 1: 'monday', 2: 'friday', 3: 'wednesday', 4: 'thursday', 5: 'saturday'}\n"
          ]
        }
      ]
    },
    {
      "cell_type": "code",
      "source": [
        "# Removing elements from Dictionary : Use the pop() or popitem() #method\n",
        "dict_one = {0:'sunday', 1: 'monday', 2: 'tuesday', 3: 'wednesday', 4: 'thursday'}\n",
        "print(dict_one.pop(2))\n",
        "\n",
        "# popitem : remove an arbitrary item and return (key,value)\n",
        "print(dict_one.popitem())"
      ],
      "metadata": {
        "colab": {
          "base_uri": "https://localhost:8080/"
        },
        "id": "MEWy7jReG-Jt",
        "outputId": "9bfd4bef-9501-4631-9805-7c7f981f0bef"
      },
      "execution_count": 26,
      "outputs": [
        {
          "output_type": "stream",
          "name": "stdout",
          "text": [
            "tuesday\n",
            "(4, 'thursday')\n"
          ]
        }
      ]
    },
    {
      "cell_type": "code",
      "source": [
        "# remove all items : using clear method\n",
        "dict_one.clear()\n",
        "print(dict_one)"
      ],
      "metadata": {
        "colab": {
          "base_uri": "https://localhost:8080/"
        },
        "id": "9tbrN6vNG-HN",
        "outputId": "6c994a5e-53bf-4a78-a9a1-3184e84377df"
      },
      "execution_count": 27,
      "outputs": [
        {
          "output_type": "stream",
          "name": "stdout",
          "text": [
            "{}\n"
          ]
        }
      ]
    },
    {
      "cell_type": "code",
      "source": [
        "# fromkeys(seq[, t]) : Returns a new dictionary with keys from seq and value equal to t\n",
        "subjects = {}.fromkeys(['Computer Science','Space Science','Math','English'])\n",
        "print(subjects)"
      ],
      "metadata": {
        "colab": {
          "base_uri": "https://localhost:8080/"
        },
        "id": "xTmSJVTbG-Eu",
        "outputId": "4af71db5-bdd8-4422-bab1-eaf806f9a5ab"
      },
      "execution_count": 28,
      "outputs": [
        {
          "output_type": "stream",
          "name": "stdout",
          "text": [
            "{'Computer Science': None, 'Space Science': None, 'Math': None, 'English': None}\n"
          ]
        }
      ]
    },
    {
      "cell_type": "code",
      "source": [
        "# items() method : displays a list of dictionary's (key, value) tuple pairs\n",
        "dict_one = {0:'sunday', 1: 'monday', 2: 'tuesday', 3: 'wednesday', 4: 'thursday'}\n",
        "print(dict_one.items())"
      ],
      "metadata": {
        "colab": {
          "base_uri": "https://localhost:8080/"
        },
        "id": "rrQw8gtNG-B-",
        "outputId": "6eeed196-7773-443c-eb1a-1d3c7793145a"
      },
      "execution_count": 29,
      "outputs": [
        {
          "output_type": "stream",
          "name": "stdout",
          "text": [
            "dict_items([(0, 'sunday'), (1, 'monday'), (2, 'tuesday'), (3, 'wednesday'), (4, 'thursday')])\n"
          ]
        }
      ]
    },
    {
      "cell_type": "code",
      "source": [
        "# keys() method : displays a list of all the keys in the dictionary\n",
        "dict_one = {0:'sunday', 1: 'monday', 2: 'tuesday', 3: 'wednesday', 4: 'thursday'}\n",
        "print(dict_one.keys())"
      ],
      "metadata": {
        "colab": {
          "base_uri": "https://localhost:8080/"
        },
        "id": "MaHrpj-DG9_d",
        "outputId": "5ef4e528-0173-4a38-b3bf-6622d0a16739"
      },
      "execution_count": 30,
      "outputs": [
        {
          "output_type": "stream",
          "name": "stdout",
          "text": [
            "dict_keys([0, 1, 2, 3, 4])\n"
          ]
        }
      ]
    },
    {
      "cell_type": "code",
      "source": [
        "# values() method : displays a list of all the values in the dictionary\n",
        "dict_one = {0:'sunday', 1: 'monday', 2: 'tuesday', 3: 'wednesday', 4: 'thursday'}\n",
        "print(dict_one.values())"
      ],
      "metadata": {
        "colab": {
          "base_uri": "https://localhost:8080/"
        },
        "id": "-bH1OyH0G989",
        "outputId": "0e7da8df-4a76-47d1-8e09-779820d949d1"
      },
      "execution_count": 31,
      "outputs": [
        {
          "output_type": "stream",
          "name": "stdout",
          "text": [
            "dict_values(['sunday', 'monday', 'tuesday', 'wednesday', 'thursday'])\n"
          ]
        }
      ]
    },
    {
      "cell_type": "code",
      "source": [
        "# setdefault() method : returns the value of a key. If not there, it inserts key with a value to the dictionary\n",
        "dict_one = {0:'sunday', 1: 'monday', 2: 'tuesday', 3: 'wednesday', 4: 'thursday'}\n",
        "element = dict_one.setdefault(3)\n",
        "print(element)\n",
        "\n",
        "# If key not present \n",
        "element = dict_one.setdefault(6)\n",
        "print(element)\n",
        "print(\"If key is not present:\", dict_one.items())"
      ],
      "metadata": {
        "colab": {
          "base_uri": "https://localhost:8080/"
        },
        "id": "5fbHRtWDG96d",
        "outputId": "bdbe30e4-c44b-4e42-a707-a28ad88ad2f0"
      },
      "execution_count": 33,
      "outputs": [
        {
          "output_type": "stream",
          "name": "stdout",
          "text": [
            "wednesday\n",
            "None\n",
            "If key is not present: dict_items([(0, 'sunday'), (1, 'monday'), (2, 'tuesday'), (3, 'wednesday'), (4, 'thursday'), (6, None)])\n"
          ]
        }
      ]
    },
    {
      "cell_type": "code",
      "source": [
        "# Nested Dictionaries\n",
        "people = {\"subject\": {0:\"Maths\",1:\"English\",3:\"Science\"},\n",
        "          \"marks\": {0:42,1:36,2: 78},\n",
        "          \"Age\": {0:12,1:34,2:19}\n",
        "         }\n",
        "\n",
        "print(people[\"Age\"][0])"
      ],
      "metadata": {
        "colab": {
          "base_uri": "https://localhost:8080/"
        },
        "id": "ah4Zj1rEIGz0",
        "outputId": "208f146f-4381-483e-cf23-a191229671a0"
      },
      "execution_count": 36,
      "outputs": [
        {
          "output_type": "stream",
          "name": "stdout",
          "text": [
            "12\n"
          ]
        }
      ]
    },
    {
      "cell_type": "code",
      "source": [
        "# sorted(): Return a new sorted list of keys in the dictionary\n",
        "dict_one = {0:'sunday', 1: 'monday', 2: 'tuesday', 3: 'wednesday', 4: 'thursday'}\n",
        "print(sorted(dict_one))"
      ],
      "metadata": {
        "colab": {
          "base_uri": "https://localhost:8080/"
        },
        "id": "HY3TsI6tIGxa",
        "outputId": "b09ef31a-2396-4a93-c203-721cfa2d6636"
      },
      "execution_count": 37,
      "outputs": [
        {
          "output_type": "stream",
          "name": "stdout",
          "text": [
            "[0, 1, 2, 3, 4]\n"
          ]
        }
      ]
    },
    {
      "cell_type": "code",
      "source": [
        "# Iterate through dictionay\n",
        "dict_one = {0:'sunday', 1: 'monday', 2: 'tuesday', 3: 'wednesday', 4: 'thursday'}\n",
        "for i in dict_one.items():\n",
        "    print(i)"
      ],
      "metadata": {
        "colab": {
          "base_uri": "https://localhost:8080/"
        },
        "id": "3s6vB-RxIGu5",
        "outputId": "2163697b-9f79-4ed5-e8e0-a2d7fee9502c"
      },
      "execution_count": 38,
      "outputs": [
        {
          "output_type": "stream",
          "name": "stdout",
          "text": [
            "(0, 'sunday')\n",
            "(1, 'monday')\n",
            "(2, 'tuesday')\n",
            "(3, 'wednesday')\n",
            "(4, 'thursday')\n"
          ]
        }
      ]
    },
    {
      "cell_type": "code",
      "source": [
        "# Dictionary Comprehension\n",
        "cubes = {x: x*x*x for x in range(10)}\n",
        "print(cubes)"
      ],
      "metadata": {
        "colab": {
          "base_uri": "https://localhost:8080/"
        },
        "id": "GrF-FoSlIGse",
        "outputId": "b622ea0a-cb4f-4389-8c73-6fb9f9c5c0b8"
      },
      "execution_count": 39,
      "outputs": [
        {
          "output_type": "stream",
          "name": "stdout",
          "text": [
            "{0: 0, 1: 1, 2: 8, 3: 27, 4: 64, 5: 125, 6: 216, 7: 343, 8: 512, 9: 729}\n"
          ]
        }
      ]
    },
    {
      "cell_type": "code",
      "source": [
        "# update() method : updates the dictionary with the elements from another dictionary object or from any other key/value pairs\n",
        "dict1 ={0:\"zero\",4:\"four\",5:\"five\"}\n",
        "dict2={2:\"two\"}\n",
        "\n",
        "# updates the value of key 2\n",
        "dict1.update(dict2)\n",
        "print(dict1)"
      ],
      "metadata": {
        "colab": {
          "base_uri": "https://localhost:8080/"
        },
        "id": "yefSN9iYIGqe",
        "outputId": "879ee8ca-7203-4d26-81d0-c1f3b0a926aa"
      },
      "execution_count": 40,
      "outputs": [
        {
          "output_type": "stream",
          "name": "stdout",
          "text": [
            "{0: 'zero', 4: 'four', 5: 'five', 2: 'two'}\n"
          ]
        }
      ]
    },
    {
      "cell_type": "code",
      "source": [
        "# Membership Test : check if a key is in a dictionary or not using the keyword in\n",
        "dict_one = {0:'sunday', 1: 'monday', 2: 'tuesday', 3: 'wednesday', 4: 'thursday'}\n",
        "print(0 in dict_one.keys())"
      ],
      "metadata": {
        "colab": {
          "base_uri": "https://localhost:8080/"
        },
        "id": "54sEvck8IGn-",
        "outputId": "90d2b776-3de2-4026-9a8e-c1d160b32133"
      },
      "execution_count": 41,
      "outputs": [
        {
          "output_type": "stream",
          "name": "stdout",
          "text": [
            "True\n"
          ]
        }
      ]
    }
  ]
}