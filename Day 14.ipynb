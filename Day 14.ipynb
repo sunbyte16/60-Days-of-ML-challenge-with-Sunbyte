{
  "nbformat": 4,
  "nbformat_minor": 0,
  "metadata": {
    "colab": {
      "name": "Day_14_Regression_Part1.ipynb",
      "provenance": [],
      "toc_visible": true,
      "authorship_tag": "ABX9TyM/8c1zxAgFRHWrUQ7iAFy+"
    },
    "kernelspec": {
      "name": "python3",
      "display_name": "Python 3"
    },
    "language_info": {
      "name": "python"
    }
  },
  "cells": [
    {
      "cell_type": "markdown",
      "source": [
        "<div style=\"text-align:center\"><img alt=\"Python Data Type\" src=\"https://github.com/thunderstroke325/60-Days-of-Data-Science-and-ML/blob/main/assets/researchgate.jpg?raw=true\" /></div>"
      ],
      "metadata": {
        "id": "_flNpqPa_REH"
      }
    },
    {
      "cell_type": "markdown",
      "source": [
        "## Simple Linear Regression\n",
        "It’s a technique to estimate the relationship between two quantitative variables. It is used when you want to establish:\n",
        "\n",
        "1.   Strength of the relationship — How strong the relationship is between two variables\n",
        "2.   The value of the dependent variable at a certain value of the independent variable.\n",
        "\n",
        "<div style=\"text-align:center\"><img alt=\"Simple Regression Equation\" src=\"https://github.com/thunderstroke325/60-Days-of-Data-Science-and-ML/blob/main/assets/simple_regression_eq.png?raw=true\" /></div>\n",
        "\n",
        "\n",
        "*   **y** is the predicted value of the dependent variable for any given value of the independent variable which is X.\n",
        "*   **B0** is the intercept and **B1** is the regression coefficient\n",
        "*   **x** is the independent variable\n",
        "*   **e** is the error of the estimate\n",
        "\n",
        "<div style=\"text-align:center\"><img alt=\"Simple Regression Chart\" src=\"https://github.com/thunderstroke325/60-Days-of-Data-Science-and-ML/blob/main/assets/simple_regression_chart.png?raw=true\" /></div>\n"
      ],
      "metadata": {
        "id": "9IXc61bDAfa9"
      }
    },
    {
      "cell_type": "code",
      "source": [
        "from sklearn.linear_model import LinearRegression\n",
        "regressor = LinearRegression()\n",
        "regressor.fit(I_Train_data, D_Train_data)\n",
        "preds = regressor.predict(X_test)"
      ],
      "metadata": {
        "id": "K0jZOpDcBaJ8"
      },
      "execution_count": null,
      "outputs": []
    },
    {
      "cell_type": "markdown",
      "source": [
        "### Visualize the training and test set"
      ],
      "metadata": {
        "id": "66x1QvcpBZtG"
      }
    },
    {
      "cell_type": "code",
      "source": [
        "import matplotlib.pyplot as plt\n",
        "\n",
        "# Visualizing the Training set results\n",
        "plt.scatter(X_train, y_train, color = 'green')\n",
        "plt.plot(X_train, regressor.predict(X_train), color = 'blue')\n",
        "plt.xlabel('Independent Variable set')\n",
        "plt.ylabel('Dependent Variable set')\n",
        "plt.show()"
      ],
      "metadata": {
        "id": "0-j0SgkeBqI7"
      },
      "execution_count": null,
      "outputs": []
    },
    {
      "cell_type": "code",
      "source": [
        "# Visualizing the Test set results\n",
        "plt.scatter(X_test, y_test, color = 'green')\n",
        "plt.plot(X_train, regressor.predict(X_train), color = 'blue')\n",
        "plt.xlabel('Independent Variable set')\n",
        "plt.ylabel('Dependent Variable set')\n",
        "plt.show()"
      ],
      "metadata": {
        "id": "BdM-Zo06Bpxr"
      },
      "execution_count": null,
      "outputs": []
    },
    {
      "cell_type": "markdown",
      "source": [
        "Linear regression uses mean-square error (MSE) to calculate the error of the model. MSE is calculated by:\n",
        "\n",
        "<div style=\"text-align:center\"><img alt=\"MSE\" src=\"https://github.com/thunderstroke325/60-Days-of-Data-Science-and-ML/blob/main/assets/mse_eq.jpg?raw=true\" /></div>"
      ],
      "metadata": {
        "id": "7x11vqzxAfYF"
      }
    },
    {
      "cell_type": "markdown",
      "source": [
        "## Multi Linear Regression\n",
        "It’s used to estimate the relationship between two or more independent variables and one dependent variable. It is used when you want to establish:\n",
        "\n",
        "1.   Strength of the relationship — How strong the relationship is between two or more independent variables and one dependent variable\n",
        "2.   The value of the dependent variable at a certain value of the independent variable.\n",
        "\n",
        "<div style=\"text-align:center\"><img alt=\"Multi Regression Equation\" src=\"https://github.com/thunderstroke325/60-Days-of-Data-Science-and-ML/blob/main/assets/multi_regression_eq.png?raw=true\" /></div>\n",
        "\n",
        "\n",
        "*   **B0** = the y-intercept\n",
        "*   **B1X1** = the regression coefficient (b1) of the first independent variable (x1)\n",
        "*   **BnXn** = the regression coefficient of the last independent variable\n",
        "*   **y** = the predicted value of the dependent variable\n",
        "*   **e** = model error\n",
        "\n",
        "\n"
      ],
      "metadata": {
        "id": "XgfbXtjsAfVN"
      }
    },
    {
      "cell_type": "code",
      "source": [
        "# Fitting multiple lineaar regression to the training set\n",
        "from sklearn.linear_model import LinearRegression\n",
        "regressor = LinearRegression()\n",
        "regressor.fit(X_train, y_train)\n",
        "# Predicting the test set results\n",
        "y_pred = regressor.predict(X_test)\n",
        "X = np.append(arr = np.ones((20, 1)).astype(int), values = X, axis = 1)\n",
        "X_opt = X[:, [0, 1, 2, 3, 4, 5]]\n",
        "regressor_OLS = sm.OLS(endog = y, exog = X_opt).fit()\n",
        "regressor_OLS.summary()\n",
        "    \n",
        "X_opt = X[:, [0, 1, 3, 4, 5]]\n",
        "regressor_OLS = sm.OLS(endog=y, exog=X_opt).fit()\n",
        "regressor_OLS.summary()\n",
        "X_opt = X[:, [0, 3, 4, 5]]\n",
        "regressor_OLS = sm.OLS(endog=y, exog=X_opt).fit()\n",
        "regressor_OLS.summary()\n",
        "X_opt = X[:, [0, 3, 5]]\n",
        "regressor_OLS = sm.OLS(endog=y, exog=X_opt).fit()\n",
        "regressor_OLS.summary()\n",
        "X_opt = X[:, [0, 3]]\n",
        "regressor_OLS = sm.OLS(endog=y, exog=X_opt).fit()\n",
        "regressor_OLS.summary()"
      ],
      "metadata": {
        "id": "laJTt64cC3pg"
      },
      "execution_count": null,
      "outputs": []
    },
    {
      "cell_type": "markdown",
      "source": [
        "## Polynomial Regression\n",
        "In polynomial Regression, the relationship between the independent variable x and dependent variable y is established as the nth degree polynomial providing the best approximation of the relationship between dependent and independent variables.\n",
        "\n",
        "<div style=\"text-align:center\"><img alt=\"Polynomial Regression Chart\" src=\"https://github.com/thunderstroke325/60-Days-of-Data-Science-and-ML/blob/main/assets/polynomial_regression_chart.png?raw=true\" /></div>\n",
        "\n",
        "It fits a nonlinear relationship between the value of x and conditional mean of y. For cases where data points are arranged in a non-linear fashion, we need the Polynomial Regression model."
      ],
      "metadata": {
        "id": "3_x2UKkkAfR-"
      }
    },
    {
      "cell_type": "code",
      "source": [
        "# Fitting Polynomial Regression to the dataset\n",
        "from sklearn.preprocessing import PolynomialFeatures\n",
        "poly = PolynomialFeatures(degree = 3)\n",
        "X_poly = poly.fit_transform(X)\n",
        "poly.fit(X_poly, y)\n",
        "l = LinearRegression()\n",
        "l.fit(X_poly, y)"
      ],
      "metadata": {
        "id": "UZM4Ko3rE_fu"
      },
      "execution_count": null,
      "outputs": []
    }
  ]
}