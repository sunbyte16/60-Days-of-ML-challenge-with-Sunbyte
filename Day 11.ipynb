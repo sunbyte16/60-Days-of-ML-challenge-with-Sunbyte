{
  "nbformat": 4,
  "nbformat_minor": 0,
  "metadata": {
    "colab": {
      "name": "Day_11_Numpy.ipynb",
      "provenance": [],
      "toc_visible": true,
      "authorship_tag": "ABX9TyO4pbQNVFrm4Is5alrb8wG4"
    },
    "kernelspec": {
      "name": "python3",
      "display_name": "Python 3"
    },
    "language_info": {
      "name": "python"
    }
  },
  "cells": [
    {
      "cell_type": "markdown",
      "source": [
        "## Numpy \n",
        "Numpy is a python library for scientific computing — to work with multidimensional array objects and used to handle large amount of data. An array which is a grid of values and is indexed by a tuple of nonnegative integers is main data structure of the Numpy library. `ndarray` is acronym of N-Dimensional Array.\n"
      ],
      "metadata": {
        "id": "F30HmPMWiD3B"
      }
    },
    {
      "cell_type": "markdown",
      "source": [
        "### import Numpy"
      ],
      "metadata": {
        "id": "ry5sfc2HiD0Z"
      }
    },
    {
      "cell_type": "code",
      "source": [
        "import numpy as np"
      ],
      "metadata": {
        "id": "RnC1DK1rimYO"
      },
      "execution_count": 2,
      "outputs": []
    },
    {
      "cell_type": "markdown",
      "source": [
        "### Create Numpy Arrays"
      ],
      "metadata": {
        "id": "R2IIuGA9iDyC"
      }
    },
    {
      "cell_type": "code",
      "source": [
        "a = np.array([1, 2, 3])\n",
        "a"
      ],
      "metadata": {
        "colab": {
          "base_uri": "https://localhost:8080/"
        },
        "id": "vnvDkIB0iq6f",
        "outputId": "5b7c8662-6799-48cf-a6ff-feda10d68cbe"
      },
      "execution_count": 4,
      "outputs": [
        {
          "output_type": "execute_result",
          "data": {
            "text/plain": [
              "array([1, 2, 3])"
            ]
          },
          "metadata": {},
          "execution_count": 4
        }
      ]
    },
    {
      "cell_type": "markdown",
      "source": [
        "### Zeros arrays\n",
        "Returns a new array setting values to 0"
      ],
      "metadata": {
        "id": "xBaCNUEpiyCM"
      }
    },
    {
      "cell_type": "code",
      "source": [
        "np.zeros(12)"
      ],
      "metadata": {
        "colab": {
          "base_uri": "https://localhost:8080/"
        },
        "id": "xTiCc0BIi8OY",
        "outputId": "05ce92f7-3d6b-49aa-905a-9b6f2ec81219"
      },
      "execution_count": 5,
      "outputs": [
        {
          "output_type": "execute_result",
          "data": {
            "text/plain": [
              "array([0., 0., 0., 0., 0., 0., 0., 0., 0., 0., 0., 0.])"
            ]
          },
          "metadata": {},
          "execution_count": 5
        }
      ]
    },
    {
      "cell_type": "code",
      "source": [
        "np.zeros(7, dtype=int)"
      ],
      "metadata": {
        "colab": {
          "base_uri": "https://localhost:8080/"
        },
        "id": "uuZJmElsi_gO",
        "outputId": "12eb3fde-2e27-4ddd-f2a6-0a7ab24cf2d4"
      },
      "execution_count": 7,
      "outputs": [
        {
          "output_type": "execute_result",
          "data": {
            "text/plain": [
              "array([0, 0, 0, 0, 0, 0, 0])"
            ]
          },
          "metadata": {},
          "execution_count": 7
        }
      ]
    },
    {
      "cell_type": "markdown",
      "source": [
        "### Ones arrays\n",
        "Return a new array of given shape and type all field with 1"
      ],
      "metadata": {
        "id": "VYuqlXHTix_X"
      }
    },
    {
      "cell_type": "code",
      "source": [
        "np.ones(5)"
      ],
      "metadata": {
        "colab": {
          "base_uri": "https://localhost:8080/"
        },
        "id": "i-Jq8EcrjI-Q",
        "outputId": "5e016a85-ec1a-4601-cab3-7e37fe758096"
      },
      "execution_count": 8,
      "outputs": [
        {
          "output_type": "execute_result",
          "data": {
            "text/plain": [
              "array([1., 1., 1., 1., 1.])"
            ]
          },
          "metadata": {},
          "execution_count": 8
        }
      ]
    },
    {
      "cell_type": "code",
      "source": [
        "np.ones((3, 5), dtype=\"int\")"
      ],
      "metadata": {
        "colab": {
          "base_uri": "https://localhost:8080/"
        },
        "id": "aY1s5Z9ljLyO",
        "outputId": "7d8e37d2-4ea3-4f17-f9e7-aaf298cfd066"
      },
      "execution_count": 9,
      "outputs": [
        {
          "output_type": "execute_result",
          "data": {
            "text/plain": [
              "array([[1, 1, 1, 1, 1],\n",
              "       [1, 1, 1, 1, 1],\n",
              "       [1, 1, 1, 1, 1]])"
            ]
          },
          "metadata": {},
          "execution_count": 9
        }
      ]
    },
    {
      "cell_type": "markdown",
      "source": [
        "### Full arrays\n",
        "Return a new array of given shape filled with a specific value"
      ],
      "metadata": {
        "id": "pzlXB5LIix8s"
      }
    },
    {
      "cell_type": "code",
      "source": [
        "np.full((3, 6), 9)"
      ],
      "metadata": {
        "colab": {
          "base_uri": "https://localhost:8080/"
        },
        "id": "ayiOnOwujSjH",
        "outputId": "098aee54-f2c1-4c2a-c0e0-f99853b3cd7e"
      },
      "execution_count": 10,
      "outputs": [
        {
          "output_type": "execute_result",
          "data": {
            "text/plain": [
              "array([[9, 9, 9, 9, 9, 9],\n",
              "       [9, 9, 9, 9, 9, 9],\n",
              "       [9, 9, 9, 9, 9, 9]])"
            ]
          },
          "metadata": {},
          "execution_count": 10
        }
      ]
    },
    {
      "cell_type": "markdown",
      "source": [
        "### Identity Matrix"
      ],
      "metadata": {
        "id": "vhw6FuR6ix0W"
      }
    },
    {
      "cell_type": "code",
      "execution_count": 11,
      "metadata": {
        "colab": {
          "base_uri": "https://localhost:8080/"
        },
        "id": "AF3XkHj7fjTx",
        "outputId": "c48bef01-b00d-4181-bc4d-56607bc5824f"
      },
      "outputs": [
        {
          "output_type": "execute_result",
          "data": {
            "text/plain": [
              "array([[1., 0., 0., 0., 0.],\n",
              "       [0., 1., 0., 0., 0.],\n",
              "       [0., 0., 1., 0., 0.],\n",
              "       [0., 0., 0., 1., 0.],\n",
              "       [0., 0., 0., 0., 1.]])"
            ]
          },
          "metadata": {},
          "execution_count": 11
        }
      ],
      "source": [
        "np.eye(5)"
      ]
    },
    {
      "cell_type": "markdown",
      "source": [
        "### Reshape"
      ],
      "metadata": {
        "id": "awUXv2rGjzcF"
      }
    },
    {
      "cell_type": "code",
      "source": [
        "np.arange(1, 15).reshape(2, 7)"
      ],
      "metadata": {
        "colab": {
          "base_uri": "https://localhost:8080/"
        },
        "id": "piIB7KFcj1yG",
        "outputId": "24cf5a91-9215-4358-80bc-c0c16452aa8a"
      },
      "execution_count": 12,
      "outputs": [
        {
          "output_type": "execute_result",
          "data": {
            "text/plain": [
              "array([[ 1,  2,  3,  4,  5,  6,  7],\n",
              "       [ 8,  9, 10, 11, 12, 13, 14]])"
            ]
          },
          "metadata": {},
          "execution_count": 12
        }
      ]
    },
    {
      "cell_type": "code",
      "source": [
        "np.arange(1, 10).reshape((1, 9))"
      ],
      "metadata": {
        "colab": {
          "base_uri": "https://localhost:8080/"
        },
        "id": "Wf8n_ueAj108",
        "outputId": "15eba234-7c76-4ac2-95af-2c99708eec19"
      },
      "execution_count": 13,
      "outputs": [
        {
          "output_type": "execute_result",
          "data": {
            "text/plain": [
              "array([[1, 2, 3, 4, 5, 6, 7, 8, 9]])"
            ]
          },
          "metadata": {},
          "execution_count": 13
        }
      ]
    },
    {
      "cell_type": "markdown",
      "source": [
        "### Flattening the Arrays\n",
        "Convert multidimensional array into 1D array"
      ],
      "metadata": {
        "id": "EBNknvw_kEgt"
      }
    },
    {
      "cell_type": "code",
      "source": [
        "a2 = np.arange(1, 9).reshape((1, 8))\n",
        "a2.reshape(-1)\n",
        "a2.flatten()"
      ],
      "metadata": {
        "colab": {
          "base_uri": "https://localhost:8080/"
        },
        "id": "QWM0J7o3kNaN",
        "outputId": "782da67b-e9b2-4bbc-be5d-f4fdee148e89"
      },
      "execution_count": 14,
      "outputs": [
        {
          "output_type": "execute_result",
          "data": {
            "text/plain": [
              "array([1, 2, 3, 4, 5, 6, 7, 8])"
            ]
          },
          "metadata": {},
          "execution_count": 14
        }
      ]
    },
    {
      "cell_type": "markdown",
      "source": [
        "### Concatenation\n",
        "Combine together two numpy arrays."
      ],
      "metadata": {
        "id": "M_uFQSZ3kVWU"
      }
    },
    {
      "cell_type": "code",
      "source": [
        "a1 = np.array([100, 110, 140])\n",
        "a2 = np.array([120, 121, 220])\n",
        "np.concatenate([a1, a2])"
      ],
      "metadata": {
        "colab": {
          "base_uri": "https://localhost:8080/"
        },
        "id": "labTTAqukbvU",
        "outputId": "3414fa31-cf18-4313-8c10-4c2cc46da0c1"
      },
      "execution_count": 15,
      "outputs": [
        {
          "output_type": "execute_result",
          "data": {
            "text/plain": [
              "array([100, 110, 140, 120, 121, 220])"
            ]
          },
          "metadata": {},
          "execution_count": 15
        }
      ]
    },
    {
      "cell_type": "code",
      "source": [
        "arr1 = np.array([[10, 20, 30],\n",
        "                 [40, 50, 60]])\n",
        "arr2 = np.array([[101, 102, 103],\n",
        "                 [104, 105, 106]])\n",
        "np.concatenate([arr1,arr2])"
      ],
      "metadata": {
        "colab": {
          "base_uri": "https://localhost:8080/"
        },
        "id": "YVZUHx1BkgCs",
        "outputId": "d4e37b89-b779-4193-d741-b6f02699a01f"
      },
      "execution_count": 16,
      "outputs": [
        {
          "output_type": "execute_result",
          "data": {
            "text/plain": [
              "array([[ 10,  20,  30],\n",
              "       [ 40,  50,  60],\n",
              "       [101, 102, 103],\n",
              "       [104, 105, 106]])"
            ]
          },
          "metadata": {},
          "execution_count": 16
        }
      ]
    },
    {
      "cell_type": "markdown",
      "source": [
        "### Broadcasting\n",
        "It’s a powerful mechanism that allows numpy to work with arrays of different shapes when performing arithmetic operations.\n",
        "\n",
        "*   If the arrays do not have the same rank, prepend the shape of the lower rank array with 1s until both shapes have the same length.\n",
        "*   The two arrays are said to be compatible in a dimension if they have the same size in the dimension, or if one of the arrays has size 1 in that dimension.\n",
        "*   The arrays can be broadcast together if they are compatible in all dimensions.\n",
        "*   After broadcasting, each array behaves as if it had shape equal to the elementwise maximum of shapes of the two input arrays.\n",
        "*   In any dimension where one array had size 1 and the other array had size greater than 1, the first array behaves as if it were copied along that dimension"
      ],
      "metadata": {
        "id": "L_YdhXk8kVMo"
      }
    },
    {
      "cell_type": "code",
      "source": [
        "arr1 = np.array([1, 0, 1])\n",
        "arr2 = np.array([1])\n",
        "arr1 + arr2"
      ],
      "metadata": {
        "colab": {
          "base_uri": "https://localhost:8080/"
        },
        "id": "NlnLZwZllOoy",
        "outputId": "ee1e3e24-5886-4c63-9275-22650a67815d"
      },
      "execution_count": 17,
      "outputs": [
        {
          "output_type": "execute_result",
          "data": {
            "text/plain": [
              "array([2, 1, 2])"
            ]
          },
          "metadata": {},
          "execution_count": 17
        }
      ]
    },
    {
      "cell_type": "markdown",
      "source": [
        "### Scalar Product\n",
        "It takes two equal-length sequences of numbers and returns a single number."
      ],
      "metadata": {
        "id": "DINaTkFflV4K"
      }
    },
    {
      "cell_type": "code",
      "source": [
        "arr1 = np.array([[30, 15],\n",
        "                 [19, 42]]) \n",
        "arr2 = np.array([[101, 90],\n",
        "                 [45, 64]])\n",
        "np.dot(arr1,arr2)"
      ],
      "metadata": {
        "colab": {
          "base_uri": "https://localhost:8080/"
        },
        "id": "FO1vpy7qlSJS",
        "outputId": "85aebab5-a8e7-4d03-df4e-d78909bebeae"
      },
      "execution_count": 18,
      "outputs": [
        {
          "output_type": "execute_result",
          "data": {
            "text/plain": [
              "array([[3705, 3660],\n",
              "       [3809, 4398]])"
            ]
          },
          "metadata": {},
          "execution_count": 18
        }
      ]
    }
  ]
}