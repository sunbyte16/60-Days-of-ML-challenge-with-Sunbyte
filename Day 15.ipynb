{
  "nbformat": 4,
  "nbformat_minor": 0,
  "metadata": {
    "colab": {
      "name": "Day_15_Regression_Part2.ipynb",
      "provenance": [],
      "toc_visible": true,
      "authorship_tag": "ABX9TyP5/FmLTCDhc8aZVIBzjh/P"
    },
    "kernelspec": {
      "name": "python3",
      "display_name": "Python 3"
    },
    "language_info": {
      "name": "python"
    }
  },
  "cells": [
    {
      "cell_type": "markdown",
      "source": [
        "<div style=\"text-align:center\"><img alt=\"Python Data Type\" src=\"https://github.com/thunderstroke325/60-Days-of-Data-Science-and-ML/blob/main/assets/analyticsmag.jpg?raw=true\" /></div>"
      ],
      "metadata": {
        "id": "AjkWVNPSUZA8"
      }
    },
    {
      "cell_type": "markdown",
      "source": [
        "## Support Vector Regression\n",
        "In this, we try to minimize the errors between the prediction and data. In Support Vector Regression (SVR) the goal is that the errors do not exceed the threshold and it uses the same concept as SVM, instead for the regression problems. It supports the presence of non-linearity in the data and provides an efficient prediction model.\n",
        "\n",
        "Two most important features of Support Vector Regression:\n",
        "\n",
        "*   Maximum margin\n",
        "*   Hyperplane\n",
        "\n",
        "To build a SVR:\n",
        "\n",
        "*   Collect a training set and choose a kernel and it’s parameters\n",
        "*   Define the correlation matrix.\n",
        "*   Train and figure out the contraction coefficients to create an estimator.\n",
        "*   Compute the correlation vector.\n"
      ],
      "metadata": {
        "id": "rBLWCFleRkfC"
      }
    },
    {
      "cell_type": "code",
      "execution_count": null,
      "metadata": {
        "id": "diWvuMzaRS5u"
      },
      "outputs": [],
      "source": [
        "from sklearn.svm import SVR\n",
        "regressor = SVR(kernel = 'rbf')\n",
        "regressor.fit(X, y)\n",
        "y_pred = regressor.predict(3.7)\n",
        "y_pred = ss_y.inverse_transform(y_pred)"
      ]
    },
    {
      "cell_type": "markdown",
      "source": [
        "## Decision Tree Regression\n",
        "Decision Tree are widely used in both in classification and regression problems. These are basically predictive models that use binary rules to calculate an output/target value. Each tree has branches, nodes and leaves where the root node represents the entire population or sample.\n",
        "\n",
        "\n",
        "<div style=\"text-align:center\"><img alt=\"Python Data Type\" src=\"https://github.com/thunderstroke325/60-Days-of-Data-Science-and-ML/blob/main/assets/decision_tree_regression.png?raw=true\" /></div>"
      ],
      "metadata": {
        "id": "QrgYPopDRkcZ"
      }
    },
    {
      "cell_type": "code",
      "source": [
        "from sklearn.tree import DecisionTreeRegressor \n",
        "regressor = DecisionTreeRegressor(random_state = 0) \n",
        "regressor.fit(X, y)\n",
        "y_pred = regressor.predict(6.5)"
      ],
      "metadata": {
        "id": "FPlM6VKQT8bg"
      },
      "execution_count": null,
      "outputs": []
    },
    {
      "cell_type": "markdown",
      "source": [
        "## Random Forest Regression\n",
        "It’s a supervised machine learning algorithm that is constructed from decision tree algorithms ( it predicts the outcome by taking the average or mean of the output from the different trees) and Is used to solve both regression and classification problems. It mainly used ensemble learning, a technique in which many classifiers are combined together to provide solutions to complex problems. It’s very efficient as it reduces the overfitting of datasets, provides an effective way of handling missing data, runs efficiently on large databases, achieves extremely high accuracies, increases precision and scales really well when new features are added to the dataset..\n",
        "\n",
        "\n",
        "<div style=\"text-align:center\"><img alt=\"Python Data Type\" src=\"https://github.com/thunderstroke325/60-Days-of-Data-Science-and-ML/blob/main/assets/random_forest_regression.png?raw=true\" /></div>"
      ],
      "metadata": {
        "id": "SKsa8OV6RkaJ"
      }
    },
    {
      "cell_type": "code",
      "source": [
        "from sklearn.ensemble import RandomForestRegressor\n",
        "regressor = RandomForestRegressor(n_estimators=10, random_state=0)    regressor.fit(X, y)    \n",
        "y_pred = regressor.predict(4.2)"
      ],
      "metadata": {
        "id": "2ctCshmqUWND"
      },
      "execution_count": null,
      "outputs": []
    }
  ]
}